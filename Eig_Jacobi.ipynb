{
  "nbformat": 4,
  "nbformat_minor": 0,
  "metadata": {
    "colab": {
      "provenance": [],
      "collapsed_sections": []
    },
    "kernelspec": {
      "name": "python3",
      "display_name": "Python 3"
    },
    "language_info": {
      "name": "python"
    }
  },
  "cells": [
    {
      "cell_type": "code",
      "source": [
        "from google.colab import drive\n",
        "drive.mount('/content/drive')\n",
        "\n",
        " import numpy as np\n",
        " \n",
        " A=np.loadtxt(\"/content/drive/MyDrive/Matriz.txt\",dtype = int)\n",
        "\n",
        "\n",
        "\n",
        "# Hallar el máximo valor fuera de la diagonal\n",
        "def Max_Valor(a): \n",
        "    max = 0  #Inicializar el valor máximo en 0\n",
        "    f = 0\n",
        "    c = 0\n",
        "    #Como la matriz es simétrica basta con hacer una búsqueda en la parte triangula superior\n",
        "    for i in range (len(a)): #Buscar por fila\n",
        "        for j in range (i+1,len(a)):         \n",
        "            if max < abs(a[i,j]):\n",
        "               max = abs(a[i,j]) #Actualizar el valor máximo\n",
        "               f,c = i,j #Actualizar coordenadas del valor máximo\n",
        "    return max, f, c\n",
        "    \n",
        "    \n",
        "def Met_Jacobi (a, tol = 1e-8, max_iter = 1000):\n",
        "    n = a.shape[0]\n",
        "    I = np.zeros([n,n])\n",
        "    c = 0\n",
        "    for i in range (n):\n",
        "        I[i,i] = 1\n",
        "    V = I.copy()\n",
        "    while c <= max_iter :\n",
        "        c = c + 1\n",
        "        f = Max_Valor(a)[1]\n",
        "        c = Max_Valor(a)[2]\n",
        "        teta = (np.arctan((2*a[f,c])/(a[c,c]-a[f,f])))/2\n",
        "        T = I.copy()\n",
        "        T[f,f] = np.cos(teta)\n",
        "        T[f,c] = -1*(np.sin(teta))\n",
        "        T[c,f] = np.sin(teta)\n",
        "        T[c,c] = np.cos(teta)\n",
        "        a = T@a@T.T\n",
        "        V = V@T.T\n",
        "        maxi = Max_Valor(a)[0]\n",
        "        if maxi < tol:\n",
        "            return a, V, c\n",
        "    return \"sobrepaso el numero maximo de iteraciones\" "
      ],
      "metadata": {
        "id": "DI7AhqWuV3ZV",
        "outputId": "fd20f9a0-53f2-435b-979c-ac6db2e7e28b",
        "colab": {
          "base_uri": "https://localhost:8080/",
          "height": 132
        }
      },
      "execution_count": 12,
      "outputs": [
        {
          "output_type": "error",
          "ename": "IndentationError",
          "evalue": "ignored",
          "traceback": [
            "\u001b[0;36m  File \u001b[0;32m\"<ipython-input-12-50165e22b102>\"\u001b[0;36m, line \u001b[0;32m4\u001b[0m\n\u001b[0;31m    import numpy as np\u001b[0m\n\u001b[0m    ^\u001b[0m\n\u001b[0;31mIndentationError\u001b[0m\u001b[0;31m:\u001b[0m unexpected indent\n"
          ]
        }
      ]
    }
  ]
}