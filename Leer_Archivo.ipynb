{
  "nbformat": 4,
  "nbformat_minor": 0,
  "metadata": {
    "colab": {
      "provenance": []
    },
    "kernelspec": {
      "name": "python3",
      "display_name": "Python 3"
    },
    "language_info": {
      "name": "python"
    }
  },
  "cells": [
    {
      "cell_type": "code",
      "source": [
        "def read_txt(name_archivo):\n",
        "    matriz = []\n",
        "    archivo = open(name_archivo)\n",
        "    for linea in archivo:\n",
        "        matriz.append(linea.strip().split())\n",
        "    archivo.close()\n",
        "    return matriz"
      ],
      "metadata": {
        "id": "icLpL3ZPcXtj"
      },
      "execution_count": 5,
      "outputs": []
    }
  ]
}