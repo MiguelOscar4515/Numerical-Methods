{
  "nbformat": 4,
  "nbformat_minor": 0,
  "metadata": {
    "colab": {
      "provenance": []
    },
    "kernelspec": {
      "name": "python3",
      "display_name": "Python 3"
    },
    "language_info": {
      "name": "python"
    }
  },
  "cells": [
    {
      "cell_type": "code",
      "source": [
        "def read_txt(name_archivo):\n",
        "    matriz = []\n",
        "    archivo = open(name_archivo)\n",
        "    for linea in archivo:\n",
        "        matriz.append(linea.strip().split())\n",
        "    archivo.close()\n",
        "    return matriz"
      ],
      "metadata": {
        "id": "icLpL3ZPcXtj"
      },
      "execution_count": 5,
      "outputs": []
    },
    {
      "cell_type": "code",
      "source": [
        "import numpy as np\n",
        "\n",
        "\n",
        "\n",
        "def potencia( a, x_0, tol = 10**-4, max_iter = 50):\n",
        "    c = 0 \n",
        "    while c <= max_iter:\n",
        "        c = c + 1\n",
        "        m_0 = x_0.T@a@x_0\n",
        "        y = a@x_0\n",
        "        x = y / ((y@y)**(1/2))\n",
        "        m = x.T@a@x  # m es landa es decir m es valor propio\n",
        "        if abs( m - m_0) < tol:\n",
        "            return m , x\n",
        "        else:\n",
        "            x_0 = x\n",
        "    return \"No devuelve el valor propio dominante, se debe cambiar la aproximación inicial\"\n",
        "        "
      ],
      "metadata": {
        "id": "F8MEZwHtcaIA"
      },
      "execution_count": 6,
      "outputs": []
    },
    {
      "cell_type": "code",
      "source": [
        "from read_txt import read_txt\n",
        "import numpy as np\n",
        "\n",
        "\n",
        "x = input(\"Nombre del archivo donde esta la matriz A: \") \n",
        "\n",
        "a = read_txt( x )\n",
        "a = np.array( a[1:], float)\n",
        "\n",
        "x_0 = np.random.rand(len(a))\n",
        "\n",
        "def potencia( a, x_0, tol = 10**-4, max_iter = 50):\n",
        "    c = 0 \n",
        "    while c <= max_iter:\n",
        "        c = c + 1\n",
        "        m_0 = x_0.T@a@x_0\n",
        "        y = a@x_0\n",
        "        x = y / ((y@y)**(1/2))\n",
        "        m = x.T@a@x  # m es landa es decir m es valor propio\n",
        "        if abs( m - m_0) < tol:\n",
        "            return m , x\n",
        "        else:\n",
        "            x_0 = x\n",
        "    return \"No devuelve el valor propio dominante, se debe cambiar la aproximación inicial\""
      ],
      "metadata": {
        "colab": {
          "base_uri": "https://localhost:8080/",
          "height": 376
        },
        "id": "4x7yUhxAcirs",
        "outputId": "8e0a8f37-2a16-4ca4-b20f-0c94bb93b4d5"
      },
      "execution_count": 7,
      "outputs": [
        {
          "output_type": "error",
          "ename": "ModuleNotFoundError",
          "evalue": "ignored",
          "traceback": [
            "\u001b[0;31m---------------------------------------------------------------------------\u001b[0m",
            "\u001b[0;31mModuleNotFoundError\u001b[0m                       Traceback (most recent call last)",
            "\u001b[0;32m<ipython-input-7-c2a148e516d2>\u001b[0m in \u001b[0;36m<module>\u001b[0;34m\u001b[0m\n\u001b[0;32m----> 1\u001b[0;31m \u001b[0;32mfrom\u001b[0m \u001b[0mread_txt\u001b[0m \u001b[0;32mimport\u001b[0m \u001b[0mread_txt\u001b[0m\u001b[0;34m\u001b[0m\u001b[0;34m\u001b[0m\u001b[0m\n\u001b[0m\u001b[1;32m      2\u001b[0m \u001b[0;32mimport\u001b[0m \u001b[0mnumpy\u001b[0m \u001b[0;32mas\u001b[0m \u001b[0mnp\u001b[0m\u001b[0;34m\u001b[0m\u001b[0;34m\u001b[0m\u001b[0m\n\u001b[1;32m      3\u001b[0m \u001b[0;34m\u001b[0m\u001b[0m\n\u001b[1;32m      4\u001b[0m \u001b[0;34m\u001b[0m\u001b[0m\n\u001b[1;32m      5\u001b[0m \u001b[0mx\u001b[0m \u001b[0;34m=\u001b[0m \u001b[0minput\u001b[0m\u001b[0;34m(\u001b[0m\u001b[0;34m\"Nombre del archivo donde esta la matriz A: \"\u001b[0m\u001b[0;34m)\u001b[0m\u001b[0;34m\u001b[0m\u001b[0;34m\u001b[0m\u001b[0m\n",
            "\u001b[0;31mModuleNotFoundError\u001b[0m: No module named 'read_txt'",
            "",
            "\u001b[0;31m---------------------------------------------------------------------------\u001b[0;32m\nNOTE: If your import is failing due to a missing package, you can\nmanually install dependencies using either !pip or !apt.\n\nTo view examples of installing some common dependencies, click the\n\"Open Examples\" button below.\n\u001b[0;31m---------------------------------------------------------------------------\u001b[0m\n"
          ],
          "errorDetails": {
            "actions": [
              {
                "action": "open_url",
                "actionText": "Open Examples",
                "url": "/notebooks/snippets/importing_libraries.ipynb"
              }
            ]
          }
        }
      ]
    }
  ]
}