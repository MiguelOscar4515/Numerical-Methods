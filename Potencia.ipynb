{
  "nbformat": 4,
  "nbformat_minor": 0,
  "metadata": {
    "colab": {
      "provenance": []
    },
    "kernelspec": {
      "name": "python3",
      "display_name": "Python 3"
    },
    "language_info": {
      "name": "python"
    }
  },
  "cells": [
    {
      "cell_type": "code",
      "source": [
        "import numpy as np\n",
        "\n",
        "\n",
        "\n",
        "def potencia( a, x_0, tol = 10**-4, max_iter = 50):\n",
        "    c = 0 \n",
        "    while c <= max_iter:\n",
        "        c = c + 1\n",
        "        m_0 = x_0.T@a@x_0\n",
        "        y = a@x_0\n",
        "        x = y / ((y@y)**(1/2))\n",
        "        m = x.T@a@x  # m es landa es decir m es valor propio\n",
        "        if abs( m - m_0) < tol:\n",
        "            return m , x\n",
        "        else:\n",
        "            x_0 = x\n",
        "    return \"No devuelve el valor propio dominante, se debe cambiar la aproximación inicial\"\n",
        "        "
      ],
      "metadata": {
        "id": "hep_hcBhnD67"
      },
      "execution_count": null,
      "outputs": []
    }
  ]
}